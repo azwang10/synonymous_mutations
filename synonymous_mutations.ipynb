{
 "cells": [
  {
   "cell_type": "code",
   "execution_count": 1,
   "metadata": {},
   "outputs": [],
   "source": [
    "import pandas as pd"
   ]
  },
  {
   "cell_type": "code",
   "execution_count": 2,
   "metadata": {},
   "outputs": [],
   "source": [
    "chart = pd.read_csv('codon-chart.csv', header=None, index_col=0)"
   ]
  },
  {
   "cell_type": "code",
   "execution_count": 3,
   "metadata": {},
   "outputs": [],
   "source": [
    "test = 'atggtcgta'"
   ]
  },
  {
   "cell_type": "code",
   "execution_count": 4,
   "metadata": {},
   "outputs": [],
   "source": [
    "def seqToCodon(seq):\n",
    "    codons = ''\n",
    "    for i in range(len(seq)//3):\n",
    "        for j in range(len(chart)):\n",
    "            if np.any((chart==seq.upper().replace('T','U')[3*i:3*i+3]).iloc[j,:]):\n",
    "                codons += chart.index[j]\n",
    "                break\n",
    "    return codons"
   ]
  },
  {
   "cell_type": "code",
   "execution_count": 5,
   "metadata": {},
   "outputs": [],
   "source": [
    "import numpy as np"
   ]
  },
  {
   "cell_type": "code",
   "execution_count": 6,
   "metadata": {},
   "outputs": [],
   "source": [
    "def codonToAllSeq(codon):\n",
    "    seq_list = []\n",
    "    for i in codon:\n",
    "        seq_list.append(chart.loc[i,:].dropna().tolist())\n",
    "    return seq_list "
   ]
  },
  {
   "cell_type": "code",
   "execution_count": 7,
   "metadata": {},
   "outputs": [
    {
     "data": {
      "text/plain": [
       "[['AUG'], ['GUU', 'GUC', 'GUA', 'GUG'], ['GUU', 'GUC', 'GUA', 'GUG']]"
      ]
     },
     "execution_count": 7,
     "metadata": {},
     "output_type": "execute_result"
    }
   ],
   "source": [
    "codonToAllSeq(seqToCodon(test))"
   ]
  },
  {
   "cell_type": "code",
   "execution_count": 8,
   "metadata": {},
   "outputs": [],
   "source": [
    "def countDiffs(x, y):\n",
    "    return sum(1 for a, b in zip(x, y) if a != b)"
   ]
  },
  {
   "cell_type": "code",
   "execution_count": 9,
   "metadata": {},
   "outputs": [],
   "source": [
    "import random"
   ]
  },
  {
   "cell_type": "code",
   "execution_count": 10,
   "metadata": {},
   "outputs": [],
   "source": [
    "def upperDiffs(x, y):\n",
    "    seq = ''\n",
    "    for i in range(len(x)):\n",
    "        if x[i].upper() == y[i]:\n",
    "            seq += x[i].lower()\n",
    "        else:\n",
    "            seq += y[i]\n",
    "    return seq"
   ]
  },
  {
   "cell_type": "code",
   "execution_count": 23,
   "metadata": {},
   "outputs": [],
   "source": [
    "def seqToMostRandSeq(seq):\n",
    "    most_rand_seq = ''\n",
    "    poss_seq_list = codonToAllSeq(seqToCodon(seq))\n",
    "    for i in range(len(seq)//3):\n",
    "        test_list = [countDiffs(seq.upper().replace('T','U')[3*i:3*i+3], j) for j in poss_seq_list[i]]\n",
    "        most_rand_seq += poss_seq_list[i][random.choice(np.argwhere(test_list == np.amax(test_list)).flatten().tolist())]\n",
    "    codon_list = [upperDiffs(seq, most_rand_seq.replace('U','T'))[3*i:3*i+3] for i in range(len(seq)//3)]\n",
    "    return_seq = ''\n",
    "    for i in codon_list:\n",
    "        return_seq += i + ' '\n",
    "    return return_seq[:-1]"
   ]
  },
  {
   "cell_type": "code",
   "execution_count": 24,
   "metadata": {},
   "outputs": [
    {
     "data": {
      "text/plain": [
       "'atg gtT gtG'"
      ]
     },
     "execution_count": 24,
     "metadata": {},
     "output_type": "execute_result"
    }
   ],
   "source": [
    "seqToMostRandSeq(test)"
   ]
  }
 ],
 "metadata": {
  "kernelspec": {
   "display_name": "Python 3",
   "language": "python",
   "name": "python3"
  },
  "language_info": {
   "codemirror_mode": {
    "name": "ipython",
    "version": 3
   },
   "file_extension": ".py",
   "mimetype": "text/x-python",
   "name": "python",
   "nbconvert_exporter": "python",
   "pygments_lexer": "ipython3",
   "version": "3.6.5"
  }
 },
 "nbformat": 4,
 "nbformat_minor": 2
}
